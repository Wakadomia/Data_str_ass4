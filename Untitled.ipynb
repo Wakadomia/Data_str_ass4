{
 "cells": [
  {
   "cell_type": "code",
   "execution_count": 2,
   "id": "5b618b41-ed7c-4ff7-9019-118ed7571d28",
   "metadata": {},
   "outputs": [
    {
     "name": "stderr",
     "output_type": "stream",
     "text": [
      "UsageError: Line magic function `%inline` not found.\n"
     ]
    }
   ],
   "source": [
    "# LeetCode 225\n",
    "import numpy as np\n",
    "\n"
   ]
  },
  {
   "cell_type": "code",
   "execution_count": null,
   "id": "1a50bc1a-fe64-4dd5-897d-5cfeb5530c59",
   "metadata": {},
   "outputs": [],
   "source": [
    "# LeetCode 232\n",
    "import numpy as np\n"
   ]
  },
  {
   "cell_type": "code",
   "execution_count": null,
   "id": "a447464f-8468-4360-9e70-b2fd4dd44331",
   "metadata": {},
   "outputs": [],
   "source": [
    "# Chapter 7\n"
   ]
  }
 ],
 "metadata": {
  "kernelspec": {
   "display_name": "Python 3 (ipykernel)",
   "language": "python",
   "name": "python3"
  },
  "language_info": {
   "codemirror_mode": {
    "name": "ipython",
    "version": 3
   },
   "file_extension": ".py",
   "mimetype": "text/x-python",
   "name": "python",
   "nbconvert_exporter": "python",
   "pygments_lexer": "ipython3",
   "version": "3.9.12"
  }
 },
 "nbformat": 4,
 "nbformat_minor": 5
}
